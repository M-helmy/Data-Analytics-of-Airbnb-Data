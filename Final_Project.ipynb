{
 "cells": [
  {
   "cell_type": "code",
   "execution_count": 1,
   "id": "318fcd58-0204-455f-a359-ea994ed882e4",
   "metadata": {},
   "outputs": [],
   "source": [
    "## Import Pandas Library\n",
    "import pandas as pd"
   ]
  },
  {
   "cell_type": "code",
   "execution_count": 2,
   "id": "9abd77e3-f5c8-4a34-b972-01992f0789fe",
   "metadata": {},
   "outputs": [],
   "source": [
    "## Read the csv file\n",
    "file = pd.read_csv('C:\\\\Users\\\\Helmy\\\\Downloads\\\\IBM Final Project\\\\Airbnb_Open_Data.csv', low_memory=False)"
   ]
  },
  {
   "cell_type": "code",
   "execution_count": 3,
   "id": "49c76f06-00ba-4d0d-a966-a1ce830eeaa5",
   "metadata": {},
   "outputs": [
    {
     "data": {
      "text/html": [
       "<div>\n",
       "<style scoped>\n",
       "    .dataframe tbody tr th:only-of-type {\n",
       "        vertical-align: middle;\n",
       "    }\n",
       "\n",
       "    .dataframe tbody tr th {\n",
       "        vertical-align: top;\n",
       "    }\n",
       "\n",
       "    .dataframe thead th {\n",
       "        text-align: right;\n",
       "    }\n",
       "</style>\n",
       "<table border=\"1\" class=\"dataframe\">\n",
       "  <thead>\n",
       "    <tr style=\"text-align: right;\">\n",
       "      <th></th>\n",
       "      <th>id</th>\n",
       "      <th>NAME</th>\n",
       "      <th>host id</th>\n",
       "      <th>host_identity_verified</th>\n",
       "      <th>host name</th>\n",
       "      <th>neighbourhood group</th>\n",
       "      <th>neighbourhood</th>\n",
       "      <th>lat</th>\n",
       "      <th>long</th>\n",
       "      <th>country</th>\n",
       "      <th>...</th>\n",
       "      <th>service fee</th>\n",
       "      <th>minimum nights</th>\n",
       "      <th>number of reviews</th>\n",
       "      <th>last review</th>\n",
       "      <th>reviews per month</th>\n",
       "      <th>review rate number</th>\n",
       "      <th>calculated host listings count</th>\n",
       "      <th>availability 365</th>\n",
       "      <th>house_rules</th>\n",
       "      <th>license</th>\n",
       "    </tr>\n",
       "  </thead>\n",
       "  <tbody>\n",
       "    <tr>\n",
       "      <th>0</th>\n",
       "      <td>1001254</td>\n",
       "      <td>Clean &amp; quiet apt home by the park</td>\n",
       "      <td>80014485718</td>\n",
       "      <td>unconfirmed</td>\n",
       "      <td>Madaline</td>\n",
       "      <td>Brooklyn</td>\n",
       "      <td>Kensington</td>\n",
       "      <td>40.64749</td>\n",
       "      <td>-73.97237</td>\n",
       "      <td>United States</td>\n",
       "      <td>...</td>\n",
       "      <td>$193</td>\n",
       "      <td>10.0</td>\n",
       "      <td>9.0</td>\n",
       "      <td>10/19/2021</td>\n",
       "      <td>0.21</td>\n",
       "      <td>4.0</td>\n",
       "      <td>6.0</td>\n",
       "      <td>286.0</td>\n",
       "      <td>Clean up and treat the home the way you'd like...</td>\n",
       "      <td>NaN</td>\n",
       "    </tr>\n",
       "    <tr>\n",
       "      <th>1</th>\n",
       "      <td>1002102</td>\n",
       "      <td>Skylit Midtown Castle</td>\n",
       "      <td>52335172823</td>\n",
       "      <td>verified</td>\n",
       "      <td>Jenna</td>\n",
       "      <td>Manhattan</td>\n",
       "      <td>Midtown</td>\n",
       "      <td>40.75362</td>\n",
       "      <td>-73.98377</td>\n",
       "      <td>United States</td>\n",
       "      <td>...</td>\n",
       "      <td>$28</td>\n",
       "      <td>30.0</td>\n",
       "      <td>45.0</td>\n",
       "      <td>5/21/2022</td>\n",
       "      <td>0.38</td>\n",
       "      <td>4.0</td>\n",
       "      <td>2.0</td>\n",
       "      <td>228.0</td>\n",
       "      <td>Pet friendly but please confirm with me if the...</td>\n",
       "      <td>NaN</td>\n",
       "    </tr>\n",
       "    <tr>\n",
       "      <th>2</th>\n",
       "      <td>1002403</td>\n",
       "      <td>THE VILLAGE OF HARLEM....NEW YORK !</td>\n",
       "      <td>78829239556</td>\n",
       "      <td>NaN</td>\n",
       "      <td>Elise</td>\n",
       "      <td>Manhattan</td>\n",
       "      <td>Harlem</td>\n",
       "      <td>40.80902</td>\n",
       "      <td>-73.94190</td>\n",
       "      <td>United States</td>\n",
       "      <td>...</td>\n",
       "      <td>$124</td>\n",
       "      <td>3.0</td>\n",
       "      <td>0.0</td>\n",
       "      <td>NaN</td>\n",
       "      <td>NaN</td>\n",
       "      <td>5.0</td>\n",
       "      <td>1.0</td>\n",
       "      <td>352.0</td>\n",
       "      <td>I encourage you to use my kitchen, cooking and...</td>\n",
       "      <td>NaN</td>\n",
       "    </tr>\n",
       "    <tr>\n",
       "      <th>3</th>\n",
       "      <td>1002755</td>\n",
       "      <td>NaN</td>\n",
       "      <td>85098326012</td>\n",
       "      <td>unconfirmed</td>\n",
       "      <td>Garry</td>\n",
       "      <td>Brooklyn</td>\n",
       "      <td>Clinton Hill</td>\n",
       "      <td>40.68514</td>\n",
       "      <td>-73.95976</td>\n",
       "      <td>United States</td>\n",
       "      <td>...</td>\n",
       "      <td>$74</td>\n",
       "      <td>30.0</td>\n",
       "      <td>270.0</td>\n",
       "      <td>7/5/2019</td>\n",
       "      <td>4.64</td>\n",
       "      <td>4.0</td>\n",
       "      <td>1.0</td>\n",
       "      <td>322.0</td>\n",
       "      <td>NaN</td>\n",
       "      <td>NaN</td>\n",
       "    </tr>\n",
       "    <tr>\n",
       "      <th>4</th>\n",
       "      <td>1003689</td>\n",
       "      <td>Entire Apt: Spacious Studio/Loft by central park</td>\n",
       "      <td>92037596077</td>\n",
       "      <td>verified</td>\n",
       "      <td>Lyndon</td>\n",
       "      <td>Manhattan</td>\n",
       "      <td>East Harlem</td>\n",
       "      <td>40.79851</td>\n",
       "      <td>-73.94399</td>\n",
       "      <td>United States</td>\n",
       "      <td>...</td>\n",
       "      <td>$41</td>\n",
       "      <td>10.0</td>\n",
       "      <td>9.0</td>\n",
       "      <td>11/19/2018</td>\n",
       "      <td>0.10</td>\n",
       "      <td>3.0</td>\n",
       "      <td>1.0</td>\n",
       "      <td>289.0</td>\n",
       "      <td>Please no smoking in the house, porch or on th...</td>\n",
       "      <td>NaN</td>\n",
       "    </tr>\n",
       "  </tbody>\n",
       "</table>\n",
       "<p>5 rows × 26 columns</p>\n",
       "</div>"
      ],
      "text/plain": [
       "        id                                              NAME      host id  \\\n",
       "0  1001254                Clean & quiet apt home by the park  80014485718   \n",
       "1  1002102                             Skylit Midtown Castle  52335172823   \n",
       "2  1002403               THE VILLAGE OF HARLEM....NEW YORK !  78829239556   \n",
       "3  1002755                                               NaN  85098326012   \n",
       "4  1003689  Entire Apt: Spacious Studio/Loft by central park  92037596077   \n",
       "\n",
       "  host_identity_verified host name neighbourhood group neighbourhood  \\\n",
       "0            unconfirmed  Madaline            Brooklyn    Kensington   \n",
       "1               verified     Jenna           Manhattan       Midtown   \n",
       "2                    NaN     Elise           Manhattan        Harlem   \n",
       "3            unconfirmed     Garry            Brooklyn  Clinton Hill   \n",
       "4               verified    Lyndon           Manhattan   East Harlem   \n",
       "\n",
       "        lat      long        country  ... service fee minimum nights  \\\n",
       "0  40.64749 -73.97237  United States  ...       $193            10.0   \n",
       "1  40.75362 -73.98377  United States  ...        $28            30.0   \n",
       "2  40.80902 -73.94190  United States  ...       $124             3.0   \n",
       "3  40.68514 -73.95976  United States  ...        $74            30.0   \n",
       "4  40.79851 -73.94399  United States  ...        $41            10.0   \n",
       "\n",
       "  number of reviews last review  reviews per month review rate number  \\\n",
       "0               9.0  10/19/2021               0.21                4.0   \n",
       "1              45.0   5/21/2022               0.38                4.0   \n",
       "2               0.0         NaN                NaN                5.0   \n",
       "3             270.0    7/5/2019               4.64                4.0   \n",
       "4               9.0  11/19/2018               0.10                3.0   \n",
       "\n",
       "  calculated host listings count  availability 365  \\\n",
       "0                            6.0             286.0   \n",
       "1                            2.0             228.0   \n",
       "2                            1.0             352.0   \n",
       "3                            1.0             322.0   \n",
       "4                            1.0             289.0   \n",
       "\n",
       "                                         house_rules license  \n",
       "0  Clean up and treat the home the way you'd like...     NaN  \n",
       "1  Pet friendly but please confirm with me if the...     NaN  \n",
       "2  I encourage you to use my kitchen, cooking and...     NaN  \n",
       "3                                                NaN     NaN  \n",
       "4  Please no smoking in the house, porch or on th...     NaN  \n",
       "\n",
       "[5 rows x 26 columns]"
      ]
     },
     "execution_count": 3,
     "metadata": {},
     "output_type": "execute_result"
    }
   ],
   "source": [
    "## Dsiplay the first 5 rows\n",
    "file.head()"
   ]
  },
  {
   "cell_type": "code",
   "execution_count": 4,
   "id": "7d07165b-e205-498c-848e-595f681213d2",
   "metadata": {},
   "outputs": [
    {
     "data": {
      "text/plain": [
       "id                                  int64\n",
       "NAME                               object\n",
       "host id                             int64\n",
       "host_identity_verified             object\n",
       "host name                          object\n",
       "neighbourhood group                object\n",
       "neighbourhood                      object\n",
       "lat                               float64\n",
       "long                              float64\n",
       "country                            object\n",
       "country code                       object\n",
       "instant_bookable                   object\n",
       "cancellation_policy                object\n",
       "room type                          object\n",
       "Construction year                 float64\n",
       "price                              object\n",
       "service fee                        object\n",
       "minimum nights                    float64\n",
       "number of reviews                 float64\n",
       "last review                        object\n",
       "reviews per month                 float64\n",
       "review rate number                float64\n",
       "calculated host listings count    float64\n",
       "availability 365                  float64\n",
       "house_rules                        object\n",
       "license                            object\n",
       "dtype: object"
      ]
     },
     "execution_count": 4,
     "metadata": {},
     "output_type": "execute_result"
    }
   ],
   "source": [
    "## Display The Data Type\n",
    "file.dtypes"
   ]
  },
  {
   "cell_type": "markdown",
   "id": "88e01445-f6bf-4252-89a0-9c071a734c84",
   "metadata": {},
   "source": [
    "-----------------------------"
   ]
  },
  {
   "cell_type": "code",
   "execution_count": 5,
   "id": "6043bf07-5a1f-4a79-8b07-e3805d3645f8",
   "metadata": {},
   "outputs": [
    {
     "data": {
      "text/plain": [
       "array(['United States', nan], dtype=object)"
      ]
     },
     "execution_count": 5,
     "metadata": {},
     "output_type": "execute_result"
    }
   ],
   "source": [
    "file.country.unique()"
   ]
  },
  {
   "cell_type": "code",
   "execution_count": 6,
   "id": "7b149b30-e5ca-4b1d-af1d-8a8af15bf6ad",
   "metadata": {},
   "outputs": [],
   "source": [
    "## deleting unneccessary columns"
   ]
  },
  {
   "cell_type": "code",
   "execution_count": 7,
   "id": "7539027c-c578-432e-8765-e8014cefd799",
   "metadata": {},
   "outputs": [],
   "source": [
    "col_to_drop = ['id', 'host id' , 'country' , 'country code']\n",
    "file.drop(columns=col_to_drop , inplace = True)"
   ]
  },
  {
   "cell_type": "code",
   "execution_count": 8,
   "id": "1dc2c714-e15f-441e-84cb-50c2a87b4560",
   "metadata": {},
   "outputs": [
    {
     "data": {
      "text/html": [
       "<div>\n",
       "<style scoped>\n",
       "    .dataframe tbody tr th:only-of-type {\n",
       "        vertical-align: middle;\n",
       "    }\n",
       "\n",
       "    .dataframe tbody tr th {\n",
       "        vertical-align: top;\n",
       "    }\n",
       "\n",
       "    .dataframe thead th {\n",
       "        text-align: right;\n",
       "    }\n",
       "</style>\n",
       "<table border=\"1\" class=\"dataframe\">\n",
       "  <thead>\n",
       "    <tr style=\"text-align: right;\">\n",
       "      <th></th>\n",
       "      <th>NAME</th>\n",
       "      <th>host_identity_verified</th>\n",
       "      <th>host name</th>\n",
       "      <th>neighbourhood group</th>\n",
       "      <th>neighbourhood</th>\n",
       "      <th>lat</th>\n",
       "      <th>long</th>\n",
       "      <th>instant_bookable</th>\n",
       "      <th>cancellation_policy</th>\n",
       "      <th>room type</th>\n",
       "      <th>...</th>\n",
       "      <th>service fee</th>\n",
       "      <th>minimum nights</th>\n",
       "      <th>number of reviews</th>\n",
       "      <th>last review</th>\n",
       "      <th>reviews per month</th>\n",
       "      <th>review rate number</th>\n",
       "      <th>calculated host listings count</th>\n",
       "      <th>availability 365</th>\n",
       "      <th>house_rules</th>\n",
       "      <th>license</th>\n",
       "    </tr>\n",
       "  </thead>\n",
       "  <tbody>\n",
       "    <tr>\n",
       "      <th>0</th>\n",
       "      <td>Clean &amp; quiet apt home by the park</td>\n",
       "      <td>unconfirmed</td>\n",
       "      <td>Madaline</td>\n",
       "      <td>Brooklyn</td>\n",
       "      <td>Kensington</td>\n",
       "      <td>40.64749</td>\n",
       "      <td>-73.97237</td>\n",
       "      <td>False</td>\n",
       "      <td>strict</td>\n",
       "      <td>Private room</td>\n",
       "      <td>...</td>\n",
       "      <td>$193</td>\n",
       "      <td>10.0</td>\n",
       "      <td>9.0</td>\n",
       "      <td>10/19/2021</td>\n",
       "      <td>0.21</td>\n",
       "      <td>4.0</td>\n",
       "      <td>6.0</td>\n",
       "      <td>286.0</td>\n",
       "      <td>Clean up and treat the home the way you'd like...</td>\n",
       "      <td>NaN</td>\n",
       "    </tr>\n",
       "    <tr>\n",
       "      <th>1</th>\n",
       "      <td>Skylit Midtown Castle</td>\n",
       "      <td>verified</td>\n",
       "      <td>Jenna</td>\n",
       "      <td>Manhattan</td>\n",
       "      <td>Midtown</td>\n",
       "      <td>40.75362</td>\n",
       "      <td>-73.98377</td>\n",
       "      <td>False</td>\n",
       "      <td>moderate</td>\n",
       "      <td>Entire home/apt</td>\n",
       "      <td>...</td>\n",
       "      <td>$28</td>\n",
       "      <td>30.0</td>\n",
       "      <td>45.0</td>\n",
       "      <td>5/21/2022</td>\n",
       "      <td>0.38</td>\n",
       "      <td>4.0</td>\n",
       "      <td>2.0</td>\n",
       "      <td>228.0</td>\n",
       "      <td>Pet friendly but please confirm with me if the...</td>\n",
       "      <td>NaN</td>\n",
       "    </tr>\n",
       "    <tr>\n",
       "      <th>2</th>\n",
       "      <td>THE VILLAGE OF HARLEM....NEW YORK !</td>\n",
       "      <td>NaN</td>\n",
       "      <td>Elise</td>\n",
       "      <td>Manhattan</td>\n",
       "      <td>Harlem</td>\n",
       "      <td>40.80902</td>\n",
       "      <td>-73.94190</td>\n",
       "      <td>True</td>\n",
       "      <td>flexible</td>\n",
       "      <td>Private room</td>\n",
       "      <td>...</td>\n",
       "      <td>$124</td>\n",
       "      <td>3.0</td>\n",
       "      <td>0.0</td>\n",
       "      <td>NaN</td>\n",
       "      <td>NaN</td>\n",
       "      <td>5.0</td>\n",
       "      <td>1.0</td>\n",
       "      <td>352.0</td>\n",
       "      <td>I encourage you to use my kitchen, cooking and...</td>\n",
       "      <td>NaN</td>\n",
       "    </tr>\n",
       "    <tr>\n",
       "      <th>3</th>\n",
       "      <td>NaN</td>\n",
       "      <td>unconfirmed</td>\n",
       "      <td>Garry</td>\n",
       "      <td>Brooklyn</td>\n",
       "      <td>Clinton Hill</td>\n",
       "      <td>40.68514</td>\n",
       "      <td>-73.95976</td>\n",
       "      <td>True</td>\n",
       "      <td>moderate</td>\n",
       "      <td>Entire home/apt</td>\n",
       "      <td>...</td>\n",
       "      <td>$74</td>\n",
       "      <td>30.0</td>\n",
       "      <td>270.0</td>\n",
       "      <td>7/5/2019</td>\n",
       "      <td>4.64</td>\n",
       "      <td>4.0</td>\n",
       "      <td>1.0</td>\n",
       "      <td>322.0</td>\n",
       "      <td>NaN</td>\n",
       "      <td>NaN</td>\n",
       "    </tr>\n",
       "    <tr>\n",
       "      <th>4</th>\n",
       "      <td>Entire Apt: Spacious Studio/Loft by central park</td>\n",
       "      <td>verified</td>\n",
       "      <td>Lyndon</td>\n",
       "      <td>Manhattan</td>\n",
       "      <td>East Harlem</td>\n",
       "      <td>40.79851</td>\n",
       "      <td>-73.94399</td>\n",
       "      <td>False</td>\n",
       "      <td>moderate</td>\n",
       "      <td>Entire home/apt</td>\n",
       "      <td>...</td>\n",
       "      <td>$41</td>\n",
       "      <td>10.0</td>\n",
       "      <td>9.0</td>\n",
       "      <td>11/19/2018</td>\n",
       "      <td>0.10</td>\n",
       "      <td>3.0</td>\n",
       "      <td>1.0</td>\n",
       "      <td>289.0</td>\n",
       "      <td>Please no smoking in the house, porch or on th...</td>\n",
       "      <td>NaN</td>\n",
       "    </tr>\n",
       "  </tbody>\n",
       "</table>\n",
       "<p>5 rows × 22 columns</p>\n",
       "</div>"
      ],
      "text/plain": [
       "                                               NAME host_identity_verified  \\\n",
       "0                Clean & quiet apt home by the park            unconfirmed   \n",
       "1                             Skylit Midtown Castle               verified   \n",
       "2               THE VILLAGE OF HARLEM....NEW YORK !                    NaN   \n",
       "3                                               NaN            unconfirmed   \n",
       "4  Entire Apt: Spacious Studio/Loft by central park               verified   \n",
       "\n",
       "  host name neighbourhood group neighbourhood       lat      long  \\\n",
       "0  Madaline            Brooklyn    Kensington  40.64749 -73.97237   \n",
       "1     Jenna           Manhattan       Midtown  40.75362 -73.98377   \n",
       "2     Elise           Manhattan        Harlem  40.80902 -73.94190   \n",
       "3     Garry            Brooklyn  Clinton Hill  40.68514 -73.95976   \n",
       "4    Lyndon           Manhattan   East Harlem  40.79851 -73.94399   \n",
       "\n",
       "  instant_bookable cancellation_policy        room type  ...  service fee  \\\n",
       "0            False              strict     Private room  ...        $193    \n",
       "1            False            moderate  Entire home/apt  ...         $28    \n",
       "2             True            flexible     Private room  ...        $124    \n",
       "3             True            moderate  Entire home/apt  ...         $74    \n",
       "4            False            moderate  Entire home/apt  ...         $41    \n",
       "\n",
       "  minimum nights number of reviews  last review  reviews per month  \\\n",
       "0           10.0               9.0   10/19/2021               0.21   \n",
       "1           30.0              45.0    5/21/2022               0.38   \n",
       "2            3.0               0.0          NaN                NaN   \n",
       "3           30.0             270.0     7/5/2019               4.64   \n",
       "4           10.0               9.0   11/19/2018               0.10   \n",
       "\n",
       "  review rate number  calculated host listings count  availability 365  \\\n",
       "0                4.0                             6.0             286.0   \n",
       "1                4.0                             2.0             228.0   \n",
       "2                5.0                             1.0             352.0   \n",
       "3                4.0                             1.0             322.0   \n",
       "4                3.0                             1.0             289.0   \n",
       "\n",
       "                                         house_rules  license  \n",
       "0  Clean up and treat the home the way you'd like...      NaN  \n",
       "1  Pet friendly but please confirm with me if the...      NaN  \n",
       "2  I encourage you to use my kitchen, cooking and...      NaN  \n",
       "3                                                NaN      NaN  \n",
       "4  Please no smoking in the house, porch or on th...      NaN  \n",
       "\n",
       "[5 rows x 22 columns]"
      ]
     },
     "execution_count": 8,
     "metadata": {},
     "output_type": "execute_result"
    }
   ],
   "source": [
    "file.head()"
   ]
  },
  {
   "cell_type": "code",
   "execution_count": 9,
   "id": "c070f5bb-c3ce-47be-ae00-37c35f5f0c26",
   "metadata": {},
   "outputs": [],
   "source": [
    "## we dropped out cols 'id' , 'host id' , 'country' and 'country code' as they are not important and the country is US so we aready now it."
   ]
  },
  {
   "cell_type": "markdown",
   "id": "dbd7c2d1-f847-4d32-8328-063b829bac23",
   "metadata": {},
   "source": [
    "---"
   ]
  },
  {
   "cell_type": "code",
   "execution_count": 10,
   "id": "92f06bba-5467-44fd-9c77-949cada84546",
   "metadata": {},
   "outputs": [],
   "source": [
    "## Check for missing values in the dataframe and display the count in ascending order."
   ]
  },
  {
   "cell_type": "code",
   "execution_count": 11,
   "id": "08cb4b46-e125-477a-9413-9e555ce691de",
   "metadata": {},
   "outputs": [],
   "source": [
    "missing_values = file.isnull().sum()"
   ]
  },
  {
   "cell_type": "code",
   "execution_count": 12,
   "id": "f7840170-cfaf-4e04-9378-e52a2778c458",
   "metadata": {},
   "outputs": [
    {
     "data": {
      "text/plain": [
       "license                           102597\n",
       "house_rules                        52131\n",
       "last review                        15893\n",
       "reviews per month                  15879\n",
       "availability 365                     448\n",
       "minimum nights                       409\n",
       "host name                            406\n",
       "review rate number                   326\n",
       "calculated host listings count       319\n",
       "host_identity_verified               289\n",
       "service fee                          273\n",
       "NAME                                 250\n",
       "price                                247\n",
       "Construction year                    214\n",
       "number of reviews                    183\n",
       "instant_bookable                     105\n",
       "cancellation_policy                   76\n",
       "neighbourhood group                   29\n",
       "neighbourhood                         16\n",
       "long                                   8\n",
       "lat                                    8\n",
       "room type                              0\n",
       "dtype: int64"
      ]
     },
     "execution_count": 12,
     "metadata": {},
     "output_type": "execute_result"
    }
   ],
   "source": [
    "missing_values.sort_values(ascending=[False])"
   ]
  },
  {
   "cell_type": "code",
   "execution_count": 13,
   "id": "e240bb32-3827-46b3-9789-00039e3b206a",
   "metadata": {},
   "outputs": [
    {
     "name": "stderr",
     "output_type": "stream",
     "text": [
      "C:\\Users\\Helmy\\AppData\\Local\\Temp\\ipykernel_3684\\4000986566.py:4: FutureWarning: Setting an item of incompatible dtype is deprecated and will raise in a future error of pandas. Value 'float64' has dtype incompatible with float64, please explicitly cast to a compatible dtype first.\n",
      "  file[column].fillna(column_datatype, inplace= True)\n"
     ]
    }
   ],
   "source": [
    "for column in file.columns:\n",
    "    if missing_values[column] > 0:\n",
    "        column_datatype = file[column].dtype\n",
    "        file[column].fillna(column_datatype, inplace= True)"
   ]
  },
  {
   "cell_type": "code",
   "execution_count": 14,
   "id": "771c0bce-3ce9-4843-a6f9-3ce77343e843",
   "metadata": {},
   "outputs": [
    {
     "data": {
      "text/html": [
       "<div>\n",
       "<style scoped>\n",
       "    .dataframe tbody tr th:only-of-type {\n",
       "        vertical-align: middle;\n",
       "    }\n",
       "\n",
       "    .dataframe tbody tr th {\n",
       "        vertical-align: top;\n",
       "    }\n",
       "\n",
       "    .dataframe thead th {\n",
       "        text-align: right;\n",
       "    }\n",
       "</style>\n",
       "<table border=\"1\" class=\"dataframe\">\n",
       "  <thead>\n",
       "    <tr style=\"text-align: right;\">\n",
       "      <th></th>\n",
       "      <th>NAME</th>\n",
       "      <th>host_identity_verified</th>\n",
       "      <th>host name</th>\n",
       "      <th>neighbourhood group</th>\n",
       "      <th>neighbourhood</th>\n",
       "      <th>lat</th>\n",
       "      <th>long</th>\n",
       "      <th>instant_bookable</th>\n",
       "      <th>cancellation_policy</th>\n",
       "      <th>room type</th>\n",
       "      <th>...</th>\n",
       "      <th>service fee</th>\n",
       "      <th>minimum nights</th>\n",
       "      <th>number of reviews</th>\n",
       "      <th>last review</th>\n",
       "      <th>reviews per month</th>\n",
       "      <th>review rate number</th>\n",
       "      <th>calculated host listings count</th>\n",
       "      <th>availability 365</th>\n",
       "      <th>house_rules</th>\n",
       "      <th>license</th>\n",
       "    </tr>\n",
       "  </thead>\n",
       "  <tbody>\n",
       "    <tr>\n",
       "      <th>0</th>\n",
       "      <td>Clean &amp; quiet apt home by the park</td>\n",
       "      <td>unconfirmed</td>\n",
       "      <td>Madaline</td>\n",
       "      <td>Brooklyn</td>\n",
       "      <td>Kensington</td>\n",
       "      <td>40.64749</td>\n",
       "      <td>-73.97237</td>\n",
       "      <td>False</td>\n",
       "      <td>strict</td>\n",
       "      <td>Private room</td>\n",
       "      <td>...</td>\n",
       "      <td>$193</td>\n",
       "      <td>10.0</td>\n",
       "      <td>9.0</td>\n",
       "      <td>10/19/2021</td>\n",
       "      <td>0.21</td>\n",
       "      <td>4.0</td>\n",
       "      <td>6.0</td>\n",
       "      <td>286.0</td>\n",
       "      <td>Clean up and treat the home the way you'd like...</td>\n",
       "      <td>object</td>\n",
       "    </tr>\n",
       "    <tr>\n",
       "      <th>1</th>\n",
       "      <td>Skylit Midtown Castle</td>\n",
       "      <td>verified</td>\n",
       "      <td>Jenna</td>\n",
       "      <td>Manhattan</td>\n",
       "      <td>Midtown</td>\n",
       "      <td>40.75362</td>\n",
       "      <td>-73.98377</td>\n",
       "      <td>False</td>\n",
       "      <td>moderate</td>\n",
       "      <td>Entire home/apt</td>\n",
       "      <td>...</td>\n",
       "      <td>$28</td>\n",
       "      <td>30.0</td>\n",
       "      <td>45.0</td>\n",
       "      <td>5/21/2022</td>\n",
       "      <td>0.38</td>\n",
       "      <td>4.0</td>\n",
       "      <td>2.0</td>\n",
       "      <td>228.0</td>\n",
       "      <td>Pet friendly but please confirm with me if the...</td>\n",
       "      <td>object</td>\n",
       "    </tr>\n",
       "    <tr>\n",
       "      <th>2</th>\n",
       "      <td>THE VILLAGE OF HARLEM....NEW YORK !</td>\n",
       "      <td>object</td>\n",
       "      <td>Elise</td>\n",
       "      <td>Manhattan</td>\n",
       "      <td>Harlem</td>\n",
       "      <td>40.80902</td>\n",
       "      <td>-73.9419</td>\n",
       "      <td>True</td>\n",
       "      <td>flexible</td>\n",
       "      <td>Private room</td>\n",
       "      <td>...</td>\n",
       "      <td>$124</td>\n",
       "      <td>3.0</td>\n",
       "      <td>0.0</td>\n",
       "      <td>object</td>\n",
       "      <td>float64</td>\n",
       "      <td>5.0</td>\n",
       "      <td>1.0</td>\n",
       "      <td>352.0</td>\n",
       "      <td>I encourage you to use my kitchen, cooking and...</td>\n",
       "      <td>object</td>\n",
       "    </tr>\n",
       "    <tr>\n",
       "      <th>3</th>\n",
       "      <td>object</td>\n",
       "      <td>unconfirmed</td>\n",
       "      <td>Garry</td>\n",
       "      <td>Brooklyn</td>\n",
       "      <td>Clinton Hill</td>\n",
       "      <td>40.68514</td>\n",
       "      <td>-73.95976</td>\n",
       "      <td>True</td>\n",
       "      <td>moderate</td>\n",
       "      <td>Entire home/apt</td>\n",
       "      <td>...</td>\n",
       "      <td>$74</td>\n",
       "      <td>30.0</td>\n",
       "      <td>270.0</td>\n",
       "      <td>7/5/2019</td>\n",
       "      <td>4.64</td>\n",
       "      <td>4.0</td>\n",
       "      <td>1.0</td>\n",
       "      <td>322.0</td>\n",
       "      <td>object</td>\n",
       "      <td>object</td>\n",
       "    </tr>\n",
       "    <tr>\n",
       "      <th>4</th>\n",
       "      <td>Entire Apt: Spacious Studio/Loft by central park</td>\n",
       "      <td>verified</td>\n",
       "      <td>Lyndon</td>\n",
       "      <td>Manhattan</td>\n",
       "      <td>East Harlem</td>\n",
       "      <td>40.79851</td>\n",
       "      <td>-73.94399</td>\n",
       "      <td>False</td>\n",
       "      <td>moderate</td>\n",
       "      <td>Entire home/apt</td>\n",
       "      <td>...</td>\n",
       "      <td>$41</td>\n",
       "      <td>10.0</td>\n",
       "      <td>9.0</td>\n",
       "      <td>11/19/2018</td>\n",
       "      <td>0.1</td>\n",
       "      <td>3.0</td>\n",
       "      <td>1.0</td>\n",
       "      <td>289.0</td>\n",
       "      <td>Please no smoking in the house, porch or on th...</td>\n",
       "      <td>object</td>\n",
       "    </tr>\n",
       "  </tbody>\n",
       "</table>\n",
       "<p>5 rows × 22 columns</p>\n",
       "</div>"
      ],
      "text/plain": [
       "                                               NAME host_identity_verified  \\\n",
       "0                Clean & quiet apt home by the park            unconfirmed   \n",
       "1                             Skylit Midtown Castle               verified   \n",
       "2               THE VILLAGE OF HARLEM....NEW YORK !                 object   \n",
       "3                                            object            unconfirmed   \n",
       "4  Entire Apt: Spacious Studio/Loft by central park               verified   \n",
       "\n",
       "  host name neighbourhood group neighbourhood       lat      long  \\\n",
       "0  Madaline            Brooklyn    Kensington  40.64749 -73.97237   \n",
       "1     Jenna           Manhattan       Midtown  40.75362 -73.98377   \n",
       "2     Elise           Manhattan        Harlem  40.80902  -73.9419   \n",
       "3     Garry            Brooklyn  Clinton Hill  40.68514 -73.95976   \n",
       "4    Lyndon           Manhattan   East Harlem  40.79851 -73.94399   \n",
       "\n",
       "  instant_bookable cancellation_policy        room type  ... service fee  \\\n",
       "0            False              strict     Private room  ...       $193    \n",
       "1            False            moderate  Entire home/apt  ...        $28    \n",
       "2             True            flexible     Private room  ...       $124    \n",
       "3             True            moderate  Entire home/apt  ...        $74    \n",
       "4            False            moderate  Entire home/apt  ...        $41    \n",
       "\n",
       "  minimum nights number of reviews last review reviews per month  \\\n",
       "0           10.0               9.0  10/19/2021              0.21   \n",
       "1           30.0              45.0   5/21/2022              0.38   \n",
       "2            3.0               0.0      object           float64   \n",
       "3           30.0             270.0    7/5/2019              4.64   \n",
       "4           10.0               9.0  11/19/2018               0.1   \n",
       "\n",
       "  review rate number calculated host listings count availability 365  \\\n",
       "0                4.0                            6.0            286.0   \n",
       "1                4.0                            2.0            228.0   \n",
       "2                5.0                            1.0            352.0   \n",
       "3                4.0                            1.0            322.0   \n",
       "4                3.0                            1.0            289.0   \n",
       "\n",
       "                                         house_rules license  \n",
       "0  Clean up and treat the home the way you'd like...  object  \n",
       "1  Pet friendly but please confirm with me if the...  object  \n",
       "2  I encourage you to use my kitchen, cooking and...  object  \n",
       "3                                             object  object  \n",
       "4  Please no smoking in the house, porch or on th...  object  \n",
       "\n",
       "[5 rows x 22 columns]"
      ]
     },
     "execution_count": 14,
     "metadata": {},
     "output_type": "execute_result"
    }
   ],
   "source": [
    "file.head()"
   ]
  },
  {
   "cell_type": "code",
   "execution_count": 15,
   "id": "3a0f7a75-c0c6-4c70-8327-5a749c6a2a37",
   "metadata": {},
   "outputs": [
    {
     "name": "stdout",
     "output_type": "stream",
     "text": [
      "102599\n"
     ]
    }
   ],
   "source": [
    "num_of_records = len(file)\n",
    "print(num_of_records)"
   ]
  },
  {
   "cell_type": "code",
   "execution_count": 16,
   "id": "859814b1-683b-4772-a870-d35121d2f264",
   "metadata": {},
   "outputs": [],
   "source": [
    "## Check whether there are any duplicate values in the dataframe and if present remove them.\n",
    "file.drop_duplicates(inplace=True)"
   ]
  },
  {
   "cell_type": "code",
   "execution_count": 17,
   "id": "4e0f2916-7e4c-4a4d-89fb-50720182317e",
   "metadata": {},
   "outputs": [
    {
     "name": "stdout",
     "output_type": "stream",
     "text": [
      "99163\n"
     ]
    }
   ],
   "source": [
    "## Display the total number of records in the dataframe after removing the duplicates.\n",
    "num_of_records_after = len(file)\n",
    "print(num_of_records_after)"
   ]
  },
  {
   "cell_type": "code",
   "execution_count": 18,
   "id": "2cc5c281-5e32-42df-ab19-bd159ba52390",
   "metadata": {},
   "outputs": [],
   "source": [
    "## Rename the column.\n",
    "\n",
    "file.rename(columns=({'availability 365':'days_booked'}),inplace=True)"
   ]
  },
  {
   "cell_type": "code",
   "execution_count": 19,
   "id": "78afd09e-1da9-4217-9028-ccf75b6fdc11",
   "metadata": {},
   "outputs": [],
   "source": [
    "## Convert all column names to lowercase and replace the spaces with an underscore \"_\"\n",
    "file.columns = file.columns.str.lower()\n",
    "file.columns = file.columns.str.replace(' ', '_')"
   ]
  },
  {
   "cell_type": "code",
   "execution_count": 20,
   "id": "095074f2-4fa0-4c3f-a8fe-8fbabb2b4519",
   "metadata": {},
   "outputs": [
    {
     "data": {
      "text/html": [
       "<div>\n",
       "<style scoped>\n",
       "    .dataframe tbody tr th:only-of-type {\n",
       "        vertical-align: middle;\n",
       "    }\n",
       "\n",
       "    .dataframe tbody tr th {\n",
       "        vertical-align: top;\n",
       "    }\n",
       "\n",
       "    .dataframe thead th {\n",
       "        text-align: right;\n",
       "    }\n",
       "</style>\n",
       "<table border=\"1\" class=\"dataframe\">\n",
       "  <thead>\n",
       "    <tr style=\"text-align: right;\">\n",
       "      <th></th>\n",
       "      <th>name</th>\n",
       "      <th>host_identity_verified</th>\n",
       "      <th>host_name</th>\n",
       "      <th>neighbourhood_group</th>\n",
       "      <th>neighbourhood</th>\n",
       "      <th>lat</th>\n",
       "      <th>long</th>\n",
       "      <th>instant_bookable</th>\n",
       "      <th>cancellation_policy</th>\n",
       "      <th>room_type</th>\n",
       "      <th>...</th>\n",
       "      <th>service_fee</th>\n",
       "      <th>minimum_nights</th>\n",
       "      <th>number_of_reviews</th>\n",
       "      <th>last_review</th>\n",
       "      <th>reviews_per_month</th>\n",
       "      <th>review_rate_number</th>\n",
       "      <th>calculated_host_listings_count</th>\n",
       "      <th>days_booked</th>\n",
       "      <th>house_rules</th>\n",
       "      <th>license</th>\n",
       "    </tr>\n",
       "  </thead>\n",
       "  <tbody>\n",
       "    <tr>\n",
       "      <th>0</th>\n",
       "      <td>Clean &amp; quiet apt home by the park</td>\n",
       "      <td>unconfirmed</td>\n",
       "      <td>Madaline</td>\n",
       "      <td>Brooklyn</td>\n",
       "      <td>Kensington</td>\n",
       "      <td>40.64749</td>\n",
       "      <td>-73.97237</td>\n",
       "      <td>False</td>\n",
       "      <td>strict</td>\n",
       "      <td>Private room</td>\n",
       "      <td>...</td>\n",
       "      <td>$193</td>\n",
       "      <td>10.0</td>\n",
       "      <td>9.0</td>\n",
       "      <td>10/19/2021</td>\n",
       "      <td>0.21</td>\n",
       "      <td>4.0</td>\n",
       "      <td>6.0</td>\n",
       "      <td>286.0</td>\n",
       "      <td>Clean up and treat the home the way you'd like...</td>\n",
       "      <td>object</td>\n",
       "    </tr>\n",
       "    <tr>\n",
       "      <th>1</th>\n",
       "      <td>Skylit Midtown Castle</td>\n",
       "      <td>verified</td>\n",
       "      <td>Jenna</td>\n",
       "      <td>Manhattan</td>\n",
       "      <td>Midtown</td>\n",
       "      <td>40.75362</td>\n",
       "      <td>-73.98377</td>\n",
       "      <td>False</td>\n",
       "      <td>moderate</td>\n",
       "      <td>Entire home/apt</td>\n",
       "      <td>...</td>\n",
       "      <td>$28</td>\n",
       "      <td>30.0</td>\n",
       "      <td>45.0</td>\n",
       "      <td>5/21/2022</td>\n",
       "      <td>0.38</td>\n",
       "      <td>4.0</td>\n",
       "      <td>2.0</td>\n",
       "      <td>228.0</td>\n",
       "      <td>Pet friendly but please confirm with me if the...</td>\n",
       "      <td>object</td>\n",
       "    </tr>\n",
       "    <tr>\n",
       "      <th>2</th>\n",
       "      <td>THE VILLAGE OF HARLEM....NEW YORK !</td>\n",
       "      <td>object</td>\n",
       "      <td>Elise</td>\n",
       "      <td>Manhattan</td>\n",
       "      <td>Harlem</td>\n",
       "      <td>40.80902</td>\n",
       "      <td>-73.9419</td>\n",
       "      <td>True</td>\n",
       "      <td>flexible</td>\n",
       "      <td>Private room</td>\n",
       "      <td>...</td>\n",
       "      <td>$124</td>\n",
       "      <td>3.0</td>\n",
       "      <td>0.0</td>\n",
       "      <td>object</td>\n",
       "      <td>float64</td>\n",
       "      <td>5.0</td>\n",
       "      <td>1.0</td>\n",
       "      <td>352.0</td>\n",
       "      <td>I encourage you to use my kitchen, cooking and...</td>\n",
       "      <td>object</td>\n",
       "    </tr>\n",
       "    <tr>\n",
       "      <th>3</th>\n",
       "      <td>object</td>\n",
       "      <td>unconfirmed</td>\n",
       "      <td>Garry</td>\n",
       "      <td>Brooklyn</td>\n",
       "      <td>Clinton Hill</td>\n",
       "      <td>40.68514</td>\n",
       "      <td>-73.95976</td>\n",
       "      <td>True</td>\n",
       "      <td>moderate</td>\n",
       "      <td>Entire home/apt</td>\n",
       "      <td>...</td>\n",
       "      <td>$74</td>\n",
       "      <td>30.0</td>\n",
       "      <td>270.0</td>\n",
       "      <td>7/5/2019</td>\n",
       "      <td>4.64</td>\n",
       "      <td>4.0</td>\n",
       "      <td>1.0</td>\n",
       "      <td>322.0</td>\n",
       "      <td>object</td>\n",
       "      <td>object</td>\n",
       "    </tr>\n",
       "    <tr>\n",
       "      <th>4</th>\n",
       "      <td>Entire Apt: Spacious Studio/Loft by central park</td>\n",
       "      <td>verified</td>\n",
       "      <td>Lyndon</td>\n",
       "      <td>Manhattan</td>\n",
       "      <td>East Harlem</td>\n",
       "      <td>40.79851</td>\n",
       "      <td>-73.94399</td>\n",
       "      <td>False</td>\n",
       "      <td>moderate</td>\n",
       "      <td>Entire home/apt</td>\n",
       "      <td>...</td>\n",
       "      <td>$41</td>\n",
       "      <td>10.0</td>\n",
       "      <td>9.0</td>\n",
       "      <td>11/19/2018</td>\n",
       "      <td>0.1</td>\n",
       "      <td>3.0</td>\n",
       "      <td>1.0</td>\n",
       "      <td>289.0</td>\n",
       "      <td>Please no smoking in the house, porch or on th...</td>\n",
       "      <td>object</td>\n",
       "    </tr>\n",
       "  </tbody>\n",
       "</table>\n",
       "<p>5 rows × 22 columns</p>\n",
       "</div>"
      ],
      "text/plain": [
       "                                               name host_identity_verified  \\\n",
       "0                Clean & quiet apt home by the park            unconfirmed   \n",
       "1                             Skylit Midtown Castle               verified   \n",
       "2               THE VILLAGE OF HARLEM....NEW YORK !                 object   \n",
       "3                                            object            unconfirmed   \n",
       "4  Entire Apt: Spacious Studio/Loft by central park               verified   \n",
       "\n",
       "  host_name neighbourhood_group neighbourhood       lat      long  \\\n",
       "0  Madaline            Brooklyn    Kensington  40.64749 -73.97237   \n",
       "1     Jenna           Manhattan       Midtown  40.75362 -73.98377   \n",
       "2     Elise           Manhattan        Harlem  40.80902  -73.9419   \n",
       "3     Garry            Brooklyn  Clinton Hill  40.68514 -73.95976   \n",
       "4    Lyndon           Manhattan   East Harlem  40.79851 -73.94399   \n",
       "\n",
       "  instant_bookable cancellation_policy        room_type  ... service_fee  \\\n",
       "0            False              strict     Private room  ...       $193    \n",
       "1            False            moderate  Entire home/apt  ...        $28    \n",
       "2             True            flexible     Private room  ...       $124    \n",
       "3             True            moderate  Entire home/apt  ...        $74    \n",
       "4            False            moderate  Entire home/apt  ...        $41    \n",
       "\n",
       "  minimum_nights number_of_reviews last_review reviews_per_month  \\\n",
       "0           10.0               9.0  10/19/2021              0.21   \n",
       "1           30.0              45.0   5/21/2022              0.38   \n",
       "2            3.0               0.0      object           float64   \n",
       "3           30.0             270.0    7/5/2019              4.64   \n",
       "4           10.0               9.0  11/19/2018               0.1   \n",
       "\n",
       "  review_rate_number calculated_host_listings_count days_booked  \\\n",
       "0                4.0                            6.0       286.0   \n",
       "1                4.0                            2.0       228.0   \n",
       "2                5.0                            1.0       352.0   \n",
       "3                4.0                            1.0       322.0   \n",
       "4                3.0                            1.0       289.0   \n",
       "\n",
       "                                         house_rules license  \n",
       "0  Clean up and treat the home the way you'd like...  object  \n",
       "1  Pet friendly but please confirm with me if the...  object  \n",
       "2  I encourage you to use my kitchen, cooking and...  object  \n",
       "3                                             object  object  \n",
       "4  Please no smoking in the house, porch or on th...  object  \n",
       "\n",
       "[5 rows x 22 columns]"
      ]
     },
     "execution_count": 20,
     "metadata": {},
     "output_type": "execute_result"
    }
   ],
   "source": [
    "file.head()"
   ]
  },
  {
   "cell_type": "code",
   "execution_count": 21,
   "id": "dc1d7a5d-f8ea-45ad-9f16-bf3533c38072",
   "metadata": {},
   "outputs": [
    {
     "data": {
      "text/html": [
       "<div>\n",
       "<style scoped>\n",
       "    .dataframe tbody tr th:only-of-type {\n",
       "        vertical-align: middle;\n",
       "    }\n",
       "\n",
       "    .dataframe tbody tr th {\n",
       "        vertical-align: top;\n",
       "    }\n",
       "\n",
       "    .dataframe thead th {\n",
       "        text-align: right;\n",
       "    }\n",
       "</style>\n",
       "<table border=\"1\" class=\"dataframe\">\n",
       "  <thead>\n",
       "    <tr style=\"text-align: right;\">\n",
       "      <th></th>\n",
       "      <th>name</th>\n",
       "      <th>host_identity_verified</th>\n",
       "      <th>host_name</th>\n",
       "      <th>neighbourhood_group</th>\n",
       "      <th>neighbourhood</th>\n",
       "      <th>lat</th>\n",
       "      <th>long</th>\n",
       "      <th>instant_bookable</th>\n",
       "      <th>cancellation_policy</th>\n",
       "      <th>room_type</th>\n",
       "      <th>...</th>\n",
       "      <th>service_fee</th>\n",
       "      <th>minimum_nights</th>\n",
       "      <th>number_of_reviews</th>\n",
       "      <th>last_review</th>\n",
       "      <th>reviews_per_month</th>\n",
       "      <th>review_rate_number</th>\n",
       "      <th>calculated_host_listings_count</th>\n",
       "      <th>days_booked</th>\n",
       "      <th>house_rules</th>\n",
       "      <th>license</th>\n",
       "    </tr>\n",
       "  </thead>\n",
       "  <tbody>\n",
       "    <tr>\n",
       "      <th>0</th>\n",
       "      <td>Clean &amp; quiet apt home by the park</td>\n",
       "      <td>unconfirmed</td>\n",
       "      <td>Madaline</td>\n",
       "      <td>Brooklyn</td>\n",
       "      <td>Kensington</td>\n",
       "      <td>40.64749</td>\n",
       "      <td>-73.97237</td>\n",
       "      <td>False</td>\n",
       "      <td>strict</td>\n",
       "      <td>Private room</td>\n",
       "      <td>...</td>\n",
       "      <td>193</td>\n",
       "      <td>10.0</td>\n",
       "      <td>9.0</td>\n",
       "      <td>10/19/2021</td>\n",
       "      <td>0.21</td>\n",
       "      <td>4.0</td>\n",
       "      <td>6.0</td>\n",
       "      <td>286.0</td>\n",
       "      <td>Clean up and treat the home the way you'd like...</td>\n",
       "      <td>object</td>\n",
       "    </tr>\n",
       "    <tr>\n",
       "      <th>1</th>\n",
       "      <td>Skylit Midtown Castle</td>\n",
       "      <td>verified</td>\n",
       "      <td>Jenna</td>\n",
       "      <td>Manhattan</td>\n",
       "      <td>Midtown</td>\n",
       "      <td>40.75362</td>\n",
       "      <td>-73.98377</td>\n",
       "      <td>False</td>\n",
       "      <td>moderate</td>\n",
       "      <td>Entire home/apt</td>\n",
       "      <td>...</td>\n",
       "      <td>28</td>\n",
       "      <td>30.0</td>\n",
       "      <td>45.0</td>\n",
       "      <td>5/21/2022</td>\n",
       "      <td>0.38</td>\n",
       "      <td>4.0</td>\n",
       "      <td>2.0</td>\n",
       "      <td>228.0</td>\n",
       "      <td>Pet friendly but please confirm with me if the...</td>\n",
       "      <td>object</td>\n",
       "    </tr>\n",
       "    <tr>\n",
       "      <th>2</th>\n",
       "      <td>THE VILLAGE OF HARLEM....NEW YORK !</td>\n",
       "      <td>object</td>\n",
       "      <td>Elise</td>\n",
       "      <td>Manhattan</td>\n",
       "      <td>Harlem</td>\n",
       "      <td>40.80902</td>\n",
       "      <td>-73.9419</td>\n",
       "      <td>True</td>\n",
       "      <td>flexible</td>\n",
       "      <td>Private room</td>\n",
       "      <td>...</td>\n",
       "      <td>124</td>\n",
       "      <td>3.0</td>\n",
       "      <td>0.0</td>\n",
       "      <td>object</td>\n",
       "      <td>float64</td>\n",
       "      <td>5.0</td>\n",
       "      <td>1.0</td>\n",
       "      <td>352.0</td>\n",
       "      <td>I encourage you to use my kitchen, cooking and...</td>\n",
       "      <td>object</td>\n",
       "    </tr>\n",
       "    <tr>\n",
       "      <th>3</th>\n",
       "      <td>object</td>\n",
       "      <td>unconfirmed</td>\n",
       "      <td>Garry</td>\n",
       "      <td>Brooklyn</td>\n",
       "      <td>Clinton Hill</td>\n",
       "      <td>40.68514</td>\n",
       "      <td>-73.95976</td>\n",
       "      <td>True</td>\n",
       "      <td>moderate</td>\n",
       "      <td>Entire home/apt</td>\n",
       "      <td>...</td>\n",
       "      <td>74</td>\n",
       "      <td>30.0</td>\n",
       "      <td>270.0</td>\n",
       "      <td>7/5/2019</td>\n",
       "      <td>4.64</td>\n",
       "      <td>4.0</td>\n",
       "      <td>1.0</td>\n",
       "      <td>322.0</td>\n",
       "      <td>object</td>\n",
       "      <td>object</td>\n",
       "    </tr>\n",
       "    <tr>\n",
       "      <th>4</th>\n",
       "      <td>Entire Apt: Spacious Studio/Loft by central park</td>\n",
       "      <td>verified</td>\n",
       "      <td>Lyndon</td>\n",
       "      <td>Manhattan</td>\n",
       "      <td>East Harlem</td>\n",
       "      <td>40.79851</td>\n",
       "      <td>-73.94399</td>\n",
       "      <td>False</td>\n",
       "      <td>moderate</td>\n",
       "      <td>Entire home/apt</td>\n",
       "      <td>...</td>\n",
       "      <td>41</td>\n",
       "      <td>10.0</td>\n",
       "      <td>9.0</td>\n",
       "      <td>11/19/2018</td>\n",
       "      <td>0.1</td>\n",
       "      <td>3.0</td>\n",
       "      <td>1.0</td>\n",
       "      <td>289.0</td>\n",
       "      <td>Please no smoking in the house, porch or on th...</td>\n",
       "      <td>object</td>\n",
       "    </tr>\n",
       "  </tbody>\n",
       "</table>\n",
       "<p>5 rows × 22 columns</p>\n",
       "</div>"
      ],
      "text/plain": [
       "                                               name host_identity_verified  \\\n",
       "0                Clean & quiet apt home by the park            unconfirmed   \n",
       "1                             Skylit Midtown Castle               verified   \n",
       "2               THE VILLAGE OF HARLEM....NEW YORK !                 object   \n",
       "3                                            object            unconfirmed   \n",
       "4  Entire Apt: Spacious Studio/Loft by central park               verified   \n",
       "\n",
       "  host_name neighbourhood_group neighbourhood       lat      long  \\\n",
       "0  Madaline            Brooklyn    Kensington  40.64749 -73.97237   \n",
       "1     Jenna           Manhattan       Midtown  40.75362 -73.98377   \n",
       "2     Elise           Manhattan        Harlem  40.80902  -73.9419   \n",
       "3     Garry            Brooklyn  Clinton Hill  40.68514 -73.95976   \n",
       "4    Lyndon           Manhattan   East Harlem  40.79851 -73.94399   \n",
       "\n",
       "  instant_bookable cancellation_policy        room_type  ... service_fee  \\\n",
       "0            False              strict     Private room  ...        193    \n",
       "1            False            moderate  Entire home/apt  ...         28    \n",
       "2             True            flexible     Private room  ...        124    \n",
       "3             True            moderate  Entire home/apt  ...         74    \n",
       "4            False            moderate  Entire home/apt  ...         41    \n",
       "\n",
       "  minimum_nights number_of_reviews last_review reviews_per_month  \\\n",
       "0           10.0               9.0  10/19/2021              0.21   \n",
       "1           30.0              45.0   5/21/2022              0.38   \n",
       "2            3.0               0.0      object           float64   \n",
       "3           30.0             270.0    7/5/2019              4.64   \n",
       "4           10.0               9.0  11/19/2018               0.1   \n",
       "\n",
       "  review_rate_number calculated_host_listings_count days_booked  \\\n",
       "0                4.0                            6.0       286.0   \n",
       "1                4.0                            2.0       228.0   \n",
       "2                5.0                            1.0       352.0   \n",
       "3                4.0                            1.0       322.0   \n",
       "4                3.0                            1.0       289.0   \n",
       "\n",
       "                                         house_rules license  \n",
       "0  Clean up and treat the home the way you'd like...  object  \n",
       "1  Pet friendly but please confirm with me if the...  object  \n",
       "2  I encourage you to use my kitchen, cooking and...  object  \n",
       "3                                             object  object  \n",
       "4  Please no smoking in the house, porch or on th...  object  \n",
       "\n",
       "[5 rows x 22 columns]"
      ]
     },
     "execution_count": 21,
     "metadata": {},
     "output_type": "execute_result"
    }
   ],
   "source": [
    "## Remove the dollar sign and comma from the columns. If necessary, convert these two columns to the appropriate data type.\n",
    "column_to_change = ['price' , 'service_fee']\n",
    "for column in column_to_change:\n",
    "    file[column] = file[column].str.replace('$','').str.replace(',','')\n",
    "file.head()"
   ]
  },
  {
   "cell_type": "code",
   "execution_count": 22,
   "id": "d336fb82-672c-4bf4-8f7d-c02330a0799c",
   "metadata": {},
   "outputs": [
    {
     "data": {
      "text/plain": [
       "array(['Private room', 'Entire home/apt', 'Shared room', 'Hotel room'],\n",
       "      dtype=object)"
      ]
     },
     "execution_count": 22,
     "metadata": {},
     "output_type": "execute_result"
    }
   ],
   "source": [
    "file.room_type.unique()"
   ]
  },
  {
   "cell_type": "code",
   "execution_count": 23,
   "id": "264f313c-355e-4330-99e0-320a59cbc581",
   "metadata": {},
   "outputs": [
    {
     "data": {
      "text/plain": [
       "room_type    4\n",
       "dtype: int64"
      ]
     },
     "execution_count": 23,
     "metadata": {},
     "output_type": "execute_result"
    }
   ],
   "source": [
    "## List the count of various room types avaliable with Airbnb\n",
    "file[['room_type']].nunique()"
   ]
  },
  {
   "cell_type": "code",
   "execution_count": 24,
   "id": "fb007ebc-023a-49eb-854c-3f3f080b9ddd",
   "metadata": {},
   "outputs": [
    {
     "data": {
      "text/html": [
       "<div>\n",
       "<style scoped>\n",
       "    .dataframe tbody tr th:only-of-type {\n",
       "        vertical-align: middle;\n",
       "    }\n",
       "\n",
       "    .dataframe tbody tr th {\n",
       "        vertical-align: top;\n",
       "    }\n",
       "\n",
       "    .dataframe thead th {\n",
       "        text-align: right;\n",
       "    }\n",
       "</style>\n",
       "<table border=\"1\" class=\"dataframe\">\n",
       "  <thead>\n",
       "    <tr style=\"text-align: right;\">\n",
       "      <th></th>\n",
       "      <th>count</th>\n",
       "    </tr>\n",
       "    <tr>\n",
       "      <th>room_type</th>\n",
       "      <th></th>\n",
       "    </tr>\n",
       "  </thead>\n",
       "  <tbody>\n",
       "    <tr>\n",
       "      <th>Entire home/apt</th>\n",
       "      <td>52003</td>\n",
       "    </tr>\n",
       "    <tr>\n",
       "      <th>Hotel room</th>\n",
       "      <td>115</td>\n",
       "    </tr>\n",
       "    <tr>\n",
       "      <th>Private room</th>\n",
       "      <td>44895</td>\n",
       "    </tr>\n",
       "    <tr>\n",
       "      <th>Shared room</th>\n",
       "      <td>2150</td>\n",
       "    </tr>\n",
       "  </tbody>\n",
       "</table>\n",
       "</div>"
      ],
      "text/plain": [
       "                 count\n",
       "room_type             \n",
       "Entire home/apt  52003\n",
       "Hotel room         115\n",
       "Private room     44895\n",
       "Shared room       2150"
      ]
     },
     "execution_count": 24,
     "metadata": {},
     "output_type": "execute_result"
    }
   ],
   "source": [
    "## Which room type adheres to more strict cancellation policy\n",
    "file.groupby('room_type')['cancellation_policy'].agg(['count'])"
   ]
  },
  {
   "cell_type": "code",
   "execution_count": 29,
   "id": "e853bff1-0744-4e7e-9daf-41cc6f5758a9",
   "metadata": {},
   "outputs": [
    {
     "name": "stdout",
     "output_type": "stream",
     "text": [
      "neighbourhood_group\n",
      "object           571 398 618 116 54 266 728 583 1020 925 267 93...\n",
      "Bronx            483 538 643 55 811 101 73 581 361 640 756 344 ...\n",
      "Brooklyn         966 368 71 1060 778 656 1095 477 133 1050 816 ...\n",
      "Manhattan        142 620 204 577 1018 291 319 606 714 149 578 2...\n",
      "Queens           916 606 355 724 1084 938 405 907 1133 656 545 ...\n",
      "Staten Island    1015 725 784 593 1032 629 675 459 1012 845 117...\n",
      "brookln                                                       580 \n",
      "manhatan                                                      460 \n",
      "Name: price, dtype: object\n"
     ]
    }
   ],
   "source": [
    "## List the prices by neighborhood group and also mention which is the most expensive neighborhood group for rentals.\n",
    "neighbourhood_group_by_price = file.groupby('neighbourhood_group')['price'].agg('sum')\n",
    "print(neighbourhood_group_by_price)"
   ]
  },
  {
   "cell_type": "code",
   "execution_count": 30,
   "id": "414559bf-3d82-4ad1-afb3-021c5f1cd421",
   "metadata": {},
   "outputs": [
    {
     "name": "stdout",
     "output_type": "stream",
     "text": [
      "Brooklyn\n"
     ]
    }
   ],
   "source": [
    "neighbourhood_group_by_price = neighbourhood_group_by_price.idxmax()\n",
    "print(neighbourhood_group_by_price)"
   ]
  },
  {
   "cell_type": "code",
   "execution_count": 31,
   "id": "9499ff84-e5ab-4353-881c-d4bf076a8621",
   "metadata": {},
   "outputs": [],
   "source": [
    "import matplotlib.pyplot as plt\n",
    "import seaborn as sns"
   ]
  },
  {
   "cell_type": "code",
   "execution_count": 32,
   "id": "a2823dd4-1fd6-474f-acec-3bedad576c3b",
   "metadata": {},
   "outputs": [
    {
     "data": {
      "text/plain": [
       "room_type    4\n",
       "dtype: int64"
      ]
     },
     "execution_count": 32,
     "metadata": {},
     "output_type": "execute_result"
    }
   ],
   "source": [
    "file[['room_type']].nunique()"
   ]
  },
  {
   "cell_type": "code",
   "execution_count": 33,
   "id": "9f26929a-bece-43f3-a388-a00c8ddc0806",
   "metadata": {},
   "outputs": [
    {
     "data": {
      "text/plain": [
       "room_type      \n",
       "Entire home/apt    52003\n",
       "Private room       44895\n",
       "Shared room         2150\n",
       "Hotel room           115\n",
       "Name: count, dtype: int64"
      ]
     },
     "execution_count": 33,
     "metadata": {},
     "output_type": "execute_result"
    }
   ],
   "source": [
    "## Count of unique room_type \n",
    "file[['room_type']].value_counts()"
   ]
  },
  {
   "cell_type": "code",
   "execution_count": 34,
   "id": "1d0641fe-9ccc-4ee3-bf48-523903c1c46d",
   "metadata": {},
   "outputs": [
    {
     "data": {
      "text/plain": [
       "room_type\n",
       "Entire home/apt    52003\n",
       "Hotel room           115\n",
       "Private room       44895\n",
       "Shared room         2150\n",
       "Name: cancellation_policy, dtype: int64"
      ]
     },
     "execution_count": 34,
     "metadata": {},
     "output_type": "execute_result"
    }
   ],
   "source": [
    "## Which room type adheres to more strict cancellation policy:\n",
    "file.groupby('room_type')['cancellation_policy'].agg('count')"
   ]
  },
  {
   "cell_type": "code",
   "execution_count": 35,
   "id": "db0bda70-8e86-4388-8c3b-1ca0686f4c68",
   "metadata": {},
   "outputs": [
    {
     "name": "stdout",
     "output_type": "stream",
     "text": [
      "neighbourhood_group\n",
      "object              18434.0\n",
      "Bronx             1634837.0\n",
      "Brooklyn         25237539.0\n",
      "Manhattan        26317730.0\n",
      "Queens            8064731.0\n",
      "Staten Island      574438.0\n",
      "brookln               580.0\n",
      "manhatan              460.0\n",
      "Name: price, dtype: float64\n",
      "The most Expensive neighbourhood_group is:  Manhattan\n"
     ]
    }
   ],
   "source": [
    "## List the prices by neighborhood group and also mention which is the most expensive neighborhood group for rentals\n",
    "file['price'] = pd.to_numeric(file['price'], errors = 'coerce')\n",
    "list_of_neighbourhood_group = file.groupby('neighbourhood_group')['price'].sum()\n",
    "most_expensive_neighbourhood_group = list_of_neighbourhood_group.idxmax()\n",
    "\n",
    "print(list_of_neighbourhood_group)\n",
    "print(\"The most Expensive neighbourhood_group is: \",most_expensive_neighbourhood_group)"
   ]
  },
  {
   "cell_type": "code",
   "execution_count": 36,
   "id": "239889d4-910e-4e13-8165-7ea72c614603",
   "metadata": {},
   "outputs": [
    {
     "name": "stdout",
     "output_type": "stream",
     "text": [
      "neighbourhood_prices neighbourhood\n",
      "object              10893.0\n",
      "Allerton            58321.0\n",
      "Arden Heights        7244.0\n",
      "Arrochar            30024.0\n",
      "Arverne            135652.0\n",
      "                     ...   \n",
      "Windsor Terrace    182904.0\n",
      "Woodhaven          114557.0\n",
      "Woodlawn            15886.0\n",
      "Woodrow              2128.0\n",
      "Woodside           360727.0\n",
      "Name: price, Length: 225, dtype: float64\n",
      "top_10_cheapest_price neighbourhood\n",
      "Lighthouse Hill                323.0\n",
      "Rossville                      655.0\n",
      "Bay Terrace, Staten Island     918.0\n",
      "Chelsea, Staten Island        1042.0\n",
      "Glen Oaks                     1101.0\n",
      "Richmondtown                  1867.0\n",
      "Willowbrook                   1914.0\n",
      "Fort Wadsworth                2048.0\n",
      "Gerritsen Beach               2083.0\n",
      "Woodrow                       2128.0\n",
      "Name: price, dtype: float64\n",
      "the cheapest neighbourhood is : Lighthouse Hill\n"
     ]
    },
    {
     "data": {
      "image/png": "[encoded data removed]",
      "text/plain": [
       "<Figure size 640x480 with 1 Axes>"
      ]
     },
     "metadata": {},
     "output_type": "display_data"
    }
   ],
   "source": [
    "## List the top 10 neighborhoods in the increasing order of their price with the help of a horizontal bar graph. Which is the cheapest neighborhood.\n",
    "import matplotlib.pyplot as plt\n",
    "neighbourhood_prices = file.groupby('neighbourhood')['price'].sum()\n",
    "top_10_cheapest_price = neighbourhood_prices.nsmallest(10).sort_values(ascending=True)\n",
    "print(\"neighbourhood_prices\", neighbourhood_prices)\n",
    "\n",
    "print(\"top_10_cheapest_price\" , top_10_cheapest_price)\n",
    "plt.barh(top_10_cheapest_price.index, top_10_cheapest_price.values)\n",
    "plt.xlabel('price')\n",
    "plt.ylabel('neighbourhoods')\n",
    "plt.title('Top_10_cheapest_neighbourhoods')\n",
    "cheapest_neighbourhood = top_10_cheapest_price.idxmin()\n",
    "print(\"the cheapest neighbourhood is :\", cheapest_neighbourhood)"
   ]
  },
  {
   "cell_type": "code",
   "execution_count": 37,
   "id": "4466fb27-e36c-4251-a3c4-9df118c40e8d",
   "metadata": {},
   "outputs": [
    {
     "name": "stderr",
     "output_type": "stream",
     "text": [
      "C:\\Users\\Helmy\\AppData\\Local\\Temp\\ipykernel_3684\\3388684395.py:4: SettingWithCopyWarning: \n",
      "A value is trying to be set on a copy of a slice from a DataFrame.\n",
      "Try using .loc[row_indexer,col_indexer] = value instead\n",
      "\n",
      "See the caveats in the documentation: https://pandas.pydata.org/pandas-docs/stable/user_guide/indexing.html#returning-a-view-versus-a-copy\n",
      "  short_term_rentals['neighbourhood_group'] = short_term_rentals['neighbourhood_group'].astype(str)\n"
     ]
    },
    {
     "data": {
      "image/png": "[encoded data removed]",
      "text/plain": [
       "<Figure size 640x480 with 1 Axes>"
      ]
     },
     "metadata": {},
     "output_type": "display_data"
    }
   ],
   "source": [
    "## List the neighborhoods which offer short term rentals within 10 days. Illustrate with a bar graph\n",
    "file['minimum_nights'] = pd.to_numeric(file['minimum_nights'] , errors = 'coerce')\n",
    "short_term_rentals = file[file['minimum_nights'] <=10]\n",
    "short_term_rentals['neighbourhood_group'] = short_term_rentals['neighbourhood_group'].astype(str)\n",
    "\n",
    "neighbourhood_count = short_term_rentals['neighbourhood_group'].value_counts()\n",
    "plt.bar(neighbourhood_count.index , neighbourhood_count.values)\n",
    "plt.xticks(rotation=90)\n",
    "plt.show()"
   ]
  },
  {
   "cell_type": "code",
   "execution_count": 38,
   "id": "69f4f55f-daa6-4b30-992a-d9606de378df",
   "metadata": {},
   "outputs": [],
   "source": [
    "price_per_room_type = file.groupby('room_type')['price'].sum()"
   ]
  },
  {
   "cell_type": "code",
   "execution_count": 44,
   "id": "af0dfcc7-04b0-4ec3-b9e4-9d2bad628f5f",
   "metadata": {},
   "outputs": [
    {
     "data": {
      "text/plain": [
       "room_type\n",
       "Entire home/apt    32432441.0\n",
       "Hotel room            76635.0\n",
       "Private room       27984988.0\n",
       "Shared room         1354685.0\n",
       "Name: price, dtype: float64"
      ]
     },
     "execution_count": 44,
     "metadata": {},
     "output_type": "execute_result"
    }
   ],
   "source": [
    "price_per_room_type"
   ]
  },
  {
   "cell_type": "code",
   "execution_count": 43,
   "id": "ea828711-a513-4b03-adc7-2ee7e481bddc",
   "metadata": {},
   "outputs": [
    {
     "data": {
      "image/png": "[encoded data removed]",
      "text/plain": [
       "<Figure size 640x480 with 1 Axes>"
      ]
     },
     "metadata": {},
     "output_type": "display_data"
    }
   ],
   "source": [
    "plt.bar(file['room_type'].unique() , price_per_room_type)\n",
    "plt.show()"
   ]
  },
  {
   "cell_type": "code",
   "execution_count": 49,
   "id": "b30c5545-4a6d-4f42-8f87-a8efdc2dcc05",
   "metadata": {},
   "outputs": [],
   "source": [
    "##\n",
    "booked_days_per_neighbourhood = file.groupby('neighbourhood_group')['days_booked'].sum()"
   ]
  },
  {
   "cell_type": "code",
   "execution_count": 56,
   "id": "8541088e-11a8-4ed1-a9d5-4a5ed3350ff6",
   "metadata": {},
   "outputs": [
    {
     "data": {
      "text/plain": [
       "neighbourhood_group\n",
       "object              3605.0\n",
       "Bronx             466706.0\n",
       "Brooklyn         5261397.0\n",
       "Manhattan        6029294.0\n",
       "Queens           2079073.0\n",
       "Staten Island     180214.0\n",
       "brookln               47.0\n",
       "manhatan             325.0\n",
       "Name: days_booked, dtype: float64"
      ]
     },
     "execution_count": 56,
     "metadata": {},
     "output_type": "execute_result"
    }
   ],
   "source": [
    "booked_days_per_neighbourhood"
   ]
  },
  {
   "cell_type": "code",
   "execution_count": 77,
   "id": "fd3efe4b-de9f-4ba6-9730-b39f46c3f3b7",
   "metadata": {},
   "outputs": [
    {
     "data": {
      "image/png": "[encoded data removed]",
      "text/plain": [
       "<Figure size 640x480 with 1 Axes>"
      ]
     },
     "metadata": {},
     "output_type": "display_data"
    }
   ],
   "source": [
    "plt.pie(booked_days_per_neighbourhood , labels = booked_days_per_neighbourhood)\n",
    "plt.legend(file['neighbourhood_group'], bbox_to_anchor= (1.5, 1))\n",
    "plt.show()"
   ]
  },
  {
   "cell_type": "code",
   "execution_count": 59,
   "id": "38023545-1058-4324-90b5-b4b2e04e3626",
   "metadata": {},
   "outputs": [
    {
     "name": "stdout",
     "output_type": "stream",
     "text": [
      "Manhattan\n"
     ]
    }
   ],
   "source": [
    "highest_booking_neighbourhood = booked_days_per_neighbourhood.idxmax()\n",
    "print(highest_booking_neighbourhood)"
   ]
  },
  {
   "cell_type": "code",
   "execution_count": 87,
   "id": "e6ecab06-92ec-4cba-9c4e-6d390a8990db",
   "metadata": {},
   "outputs": [
    {
     "data": {
      "image/png": "[encoded data removed]",
      "text/plain": [
       "<Figure size 640x480 with 1 Axes>"
      ]
     },
     "metadata": {},
     "output_type": "display_data"
    }
   ],
   "source": [
    "file['service_fee'] = file['service_fee'].astype(str)\n",
    "plt.scatter(x = file['service_fee'] , y = file['price'] )\n",
    "plt.show()"
   ]
  },
  {
   "cell_type": "code",
   "execution_count": 88,
   "id": "5a107580-3aff-492e-ae9c-a388a9fe2480",
   "metadata": {},
   "outputs": [],
   "source": [
    "## from this graph I think there is no strong relation between the service_fee and the room price"
   ]
  },
  {
   "cell_type": "code",
   "execution_count": 106,
   "id": "d3c6d66f-e05c-4d7c-baba-fda2859af7a7",
   "metadata": {},
   "outputs": [],
   "source": [
    "file['construction_year'] = file['construction_year'].astype(str)\n",
    "construction_year_count = file['construction_year'].value_counts().sort_index()"
   ]
  },
  {
   "cell_type": "code",
   "execution_count": 120,
   "id": "101df740-916e-414e-b3bb-eebe16ae7819",
   "metadata": {},
   "outputs": [
    {
     "data": {
      "image/png": "[encoded data removed]",
      "text/plain": [
       "<Figure size 640x480 with 1 Axes>"
      ]
     },
     "metadata": {},
     "output_type": "display_data"
    }
   ],
   "source": [
    "plt.plot(construction_year_count.index , construction_year_count.values)\n",
    "plt.xticks(rotation = 90)\n",
    "plt.show()"
   ]
  },
  {
   "cell_type": "code",
   "execution_count": 111,
   "id": "742fca7b-1dc0-4206-96a2-19ccc0eda983",
   "metadata": {},
   "outputs": [
    {
     "name": "stdout",
     "output_type": "stream",
     "text": [
      "2014.0\n"
     ]
    }
   ],
   "source": [
    "year_with_max_construction = construction_year_count.idxmax()\n",
    "print(year_with_max_construction)"
   ]
  },
  {
   "cell_type": "markdown",
   "id": "5b90a817-be26-4025-9902-9bfc92c873d8",
   "metadata": {},
   "source": [
    "------"
   ]
  },
  {
   "cell_type": "code",
   "execution_count": 123,
   "id": "aa372837-c6ba-4fd8-b89f-07039e4a3c57",
   "metadata": {},
   "outputs": [
    {
     "data": {
      "image/png": "[encoded data removed]",
      "text/plain": [
       "<Figure size 640x480 with 1 Axes>"
      ]
     },
     "metadata": {},
     "output_type": "display_data"
    }
   ],
   "source": [
    "import seaborn as sns\n",
    "sns.boxplot(x ='review_rate_number', y = 'price' , data = file)\n",
    "plt.show()"
   ]
  },
  {
   "cell_type": "code",
   "execution_count": 124,
   "id": "e9d54c91-c859-4796-8b00-f22e7127b5a5",
   "metadata": {},
   "outputs": [
    {
     "data": {
      "image/png": "[encoded data removed]",
      "text/plain": [
       "<Figure size 640x480 with 1 Axes>"
      ]
     },
     "metadata": {},
     "output_type": "display_data"
    }
   ],
   "source": [
    "sns.boxplot(x = 'host_identity_verified' , y = 'price' , data = file)\n",
    "plt.show()"
   ]
  },
  {
   "cell_type": "code",
   "execution_count": null,
   "id": "6a17da3e-a388-4209-a532-d28694c1b8b3",
   "metadata": {},
   "outputs": [],
   "source": []
  }
 ],
 "metadata": {
  "kernelspec": {
   "display_name": "Python 3 (ipykernel)",
   "language": "python",
   "name": "python3"
  },
  "language_info": {
   "codemirror_mode": {
    "name": "ipython",
    "version": 3
   },
   "file_extension": ".py",
   "mimetype": "text/x-python",
   "name": "python",
   "nbconvert_exporter": "python",
   "pygments_lexer": "ipython3",
   "version": "3.12.0"
  }
 },
 "nbformat": 4,
 "nbformat_minor": 5
}
